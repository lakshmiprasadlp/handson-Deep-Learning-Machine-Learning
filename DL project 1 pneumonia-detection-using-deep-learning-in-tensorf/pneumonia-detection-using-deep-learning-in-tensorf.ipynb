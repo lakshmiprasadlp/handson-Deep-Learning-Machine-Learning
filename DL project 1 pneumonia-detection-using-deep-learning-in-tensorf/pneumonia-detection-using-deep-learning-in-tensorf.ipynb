{
 "cells": [
  {
   "cell_type": "code",
   "execution_count": 1,
   "metadata": {
    "_cell_guid": "b1076dfc-b9ad-4769-8c92-a6c4dae69d19",
    "_uuid": "8f2839f25d086af736a60e9eeb907d3b93b6e0e5",
    "execution": {
     "iopub.execute_input": "2025-02-06T15:11:47.733160Z",
     "iopub.status.busy": "2025-02-06T15:11:47.732882Z",
     "iopub.status.idle": "2025-02-06T15:12:13.465380Z",
     "shell.execute_reply": "2025-02-06T15:12:13.464466Z",
     "shell.execute_reply.started": "2025-02-06T15:11:47.733138Z"
    },
    "trusted": true
   },
   "outputs": [],
   "source": [
    "# Tlhis Python 3 environment comes with many helpful analytics libraries installed\n",
    "# It is defined by the kaggle/python Docker image: https://github.com/kaggle/docker-python\n",
    "# For example, here's several helpful packages to load\n",
    "\n",
    "import numpy as np # linear algebra\n",
    "import pandas as pd # data processing, CSV file I/O (e.g. pd.read_csv)\n",
    "\n",
    "# Input data files are available in the read-only \"../input/\" directory\n",
    "# For example, running this (by clicking run or pressing Shift+Enter) will list all files under the input directory\n",
    "\n",
    "import os\n",
    "for dirname, _, filenames in os.walk('/kaggle/input'):\n",
    "    for filename in filenames:\n",
    "        pass#print(os.path.join(dirname, filename))\n",
    "\n",
    "# You can write up to 20GB to the current directory (/kaggle/working/) that gets preserved as output when you create a version using \"Save & Run All\" \n",
    "# You can also write temporary files to /kaggle/temp/, but they won't be saved outside of the current session"
   ]
  },
  {
   "cell_type": "code",
   "execution_count": 2,
   "metadata": {
    "execution": {
     "iopub.execute_input": "2025-02-06T15:12:13.466593Z",
     "iopub.status.busy": "2025-02-06T15:12:13.466244Z",
     "iopub.status.idle": "2025-02-06T15:12:24.891334Z",
     "shell.execute_reply": "2025-02-06T15:12:24.890654Z",
     "shell.execute_reply.started": "2025-02-06T15:12:13.466572Z"
    },
    "trusted": true
   },
   "outputs": [],
   "source": [
    "import numpy as np\n",
    "import tensorflow as tf\n",
    "from tensorflow.keras.preprocessing.image import ImageDataGenerator\n",
    "from tensorflow.keras.applications import VGG16\n",
    "from tensorflow.keras.models import Model, load_model\n",
    "from tensorflow.keras.layers import Dense, Flatten\n",
    "import matplotlib.pyplot as plt\n",
    "from tensorflow.keras.preprocessing import image\n"
   ]
  },
  {
   "cell_type": "code",
   "execution_count": 3,
   "metadata": {
    "execution": {
     "iopub.execute_input": "2025-02-06T15:12:24.895528Z",
     "iopub.status.busy": "2025-02-06T15:12:24.895230Z",
     "iopub.status.idle": "2025-02-06T15:12:24.899210Z",
     "shell.execute_reply": "2025-02-06T15:12:24.898318Z",
     "shell.execute_reply.started": "2025-02-06T15:12:24.895504Z"
    },
    "trusted": true
   },
   "outputs": [],
   "source": [
    "# Dataset Paths\n",
    "dataset_path = \"/kaggle/input/chest-xray-pneumonia/chest_xray\"\n",
    "train_path = dataset_path + \"/train\"\n",
    "test_path = dataset_path + \"/test\"\n"
   ]
  },
  {
   "cell_type": "code",
   "execution_count": 4,
   "metadata": {
    "execution": {
     "iopub.execute_input": "2025-02-06T15:12:24.900201Z",
     "iopub.status.busy": "2025-02-06T15:12:24.899881Z",
     "iopub.status.idle": "2025-02-06T15:12:27.777917Z",
     "shell.execute_reply": "2025-02-06T15:12:27.777272Z",
     "shell.execute_reply.started": "2025-02-06T15:12:24.900165Z"
    },
    "trusted": true
   },
   "outputs": [
    {
     "name": "stdout",
     "output_type": "stream",
     "text": [
      "Downloading data from https://storage.googleapis.com/tensorflow/keras-applications/vgg16/vgg16_weights_tf_dim_ordering_tf_kernels_notop.h5\n",
      "\u001b[1m58889256/58889256\u001b[0m \u001b[32m━━━━━━━━━━━━━━━━━━━━\u001b[0m\u001b[37m\u001b[0m \u001b[1m0s\u001b[0m 0us/step\n"
     ]
    }
   ],
   "source": [
    "# Load the VGG16 model\n",
    "base_model = VGG16(input_shape=(224, 224, 3), weights='imagenet', include_top=False)"
   ]
  },
  {
   "cell_type": "code",
   "execution_count": 5,
   "metadata": {
    "execution": {
     "iopub.execute_input": "2025-02-06T15:12:27.779202Z",
     "iopub.status.busy": "2025-02-06T15:12:27.778860Z",
     "iopub.status.idle": "2025-02-06T15:12:27.783218Z",
     "shell.execute_reply": "2025-02-06T15:12:27.782568Z",
     "shell.execute_reply.started": "2025-02-06T15:12:27.779170Z"
    },
    "trusted": true
   },
   "outputs": [],
   "source": [
    "# Freeze all the layers in the base model\n",
    "for layer in base_model.layers:\n",
    "    layer.trainable = False\n"
   ]
  },
  {
   "cell_type": "code",
   "execution_count": 6,
   "metadata": {
    "execution": {
     "iopub.execute_input": "2025-02-06T15:12:36.244283Z",
     "iopub.status.busy": "2025-02-06T15:12:36.243928Z",
     "iopub.status.idle": "2025-02-06T15:12:36.268839Z",
     "shell.execute_reply": "2025-02-06T15:12:36.268234Z",
     "shell.execute_reply.started": "2025-02-06T15:12:36.244255Z"
    },
    "trusted": true
   },
   "outputs": [],
   "source": [
    "x = Flatten()(base_model.output)\n",
    "x = Dense(256, activation='relu')(x)\n",
    "x = Dense(2, activation='softmax')(x)  # 2 classes: Normal, Pneumonia\n"
   ]
  },
  {
   "cell_type": "code",
   "execution_count": 7,
   "metadata": {
    "execution": {
     "iopub.execute_input": "2025-02-06T15:12:49.813670Z",
     "iopub.status.busy": "2025-02-06T15:12:49.813261Z",
     "iopub.status.idle": "2025-02-06T15:12:49.822072Z",
     "shell.execute_reply": "2025-02-06T15:12:49.820811Z",
     "shell.execute_reply.started": "2025-02-06T15:12:49.813622Z"
    },
    "trusted": true
   },
   "outputs": [],
   "source": [
    "# Define the model\n",
    "model = Model(inputs=base_model.input, outputs=x)\n"
   ]
  },
  {
   "cell_type": "code",
   "execution_count": 8,
   "metadata": {
    "execution": {
     "iopub.execute_input": "2025-02-06T15:13:02.824342Z",
     "iopub.status.busy": "2025-02-06T15:13:02.823960Z",
     "iopub.status.idle": "2025-02-06T15:30:13.087020Z",
     "shell.execute_reply": "2025-02-06T15:30:13.086092Z",
     "shell.execute_reply.started": "2025-02-06T15:13:02.824314Z"
    },
    "jupyter": {
     "source_hidden": true
    },
    "trusted": true
   },
   "outputs": [
    {
     "name": "stdout",
     "output_type": "stream",
     "text": [
      "Found 5216 images belonging to 2 classes.\n",
      "Found 624 images belonging to 2 classes.\n",
      "Epoch 1/10\n"
     ]
    },
    {
     "name": "stderr",
     "output_type": "stream",
     "text": [
      "/usr/local/lib/python3.10/dist-packages/keras/src/trainers/data_adapters/py_dataset_adapter.py:122: UserWarning: Your `PyDataset` class should call `super().__init__(**kwargs)` in its constructor. `**kwargs` can include `workers`, `use_multiprocessing`, `max_queue_size`. Do not pass these arguments to `fit()`, as they will be ignored.\n",
      "  self._warn_if_super_not_called()\n"
     ]
    },
    {
     "name": "stdout",
     "output_type": "stream",
     "text": [
      "\u001b[1m522/522\u001b[0m \u001b[32m━━━━━━━━━━━━━━━━━━━━\u001b[0m\u001b[37m\u001b[0m \u001b[1m152s\u001b[0m 271ms/step - accuracy: 0.8921 - loss: 0.4660 - val_accuracy: 0.9279 - val_loss: 0.2524\n",
      "Epoch 2/10\n",
      "\u001b[1m522/522\u001b[0m \u001b[32m━━━━━━━━━━━━━━━━━━━━\u001b[0m\u001b[37m\u001b[0m \u001b[1m102s\u001b[0m 193ms/step - accuracy: 0.9447 - loss: 0.1484 - val_accuracy: 0.9054 - val_loss: 0.3218\n",
      "Epoch 3/10\n",
      "\u001b[1m522/522\u001b[0m \u001b[32m━━━━━━━━━━━━━━━━━━━━\u001b[0m\u001b[37m\u001b[0m \u001b[1m97s\u001b[0m 184ms/step - accuracy: 0.9621 - loss: 0.1099 - val_accuracy: 0.9022 - val_loss: 0.3363\n",
      "Epoch 4/10\n",
      "\u001b[1m522/522\u001b[0m \u001b[32m━━━━━━━━━━━━━━━━━━━━\u001b[0m\u001b[37m\u001b[0m \u001b[1m96s\u001b[0m 182ms/step - accuracy: 0.9655 - loss: 0.0912 - val_accuracy: 0.9151 - val_loss: 0.2616\n",
      "Epoch 5/10\n",
      "\u001b[1m522/522\u001b[0m \u001b[32m━━━━━━━━━━━━━━━━━━━━\u001b[0m\u001b[37m\u001b[0m \u001b[1m97s\u001b[0m 183ms/step - accuracy: 0.9679 - loss: 0.0879 - val_accuracy: 0.9183 - val_loss: 0.2577\n",
      "Epoch 6/10\n",
      "\u001b[1m522/522\u001b[0m \u001b[32m━━━━━━━━━━━━━━━━━━━━\u001b[0m\u001b[37m\u001b[0m \u001b[1m97s\u001b[0m 183ms/step - accuracy: 0.9730 - loss: 0.0763 - val_accuracy: 0.8798 - val_loss: 0.4127\n",
      "Epoch 7/10\n",
      "\u001b[1m522/522\u001b[0m \u001b[32m━━━━━━━━━━━━━━━━━━━━\u001b[0m\u001b[37m\u001b[0m \u001b[1m97s\u001b[0m 183ms/step - accuracy: 0.9693 - loss: 0.0777 - val_accuracy: 0.9215 - val_loss: 0.2293\n",
      "Epoch 8/10\n",
      "\u001b[1m522/522\u001b[0m \u001b[32m━━━━━━━━━━━━━━━━━━━━\u001b[0m\u001b[37m\u001b[0m \u001b[1m96s\u001b[0m 181ms/step - accuracy: 0.9761 - loss: 0.0728 - val_accuracy: 0.8894 - val_loss: 0.3795\n",
      "Epoch 9/10\n",
      "\u001b[1m522/522\u001b[0m \u001b[32m━━━━━━━━━━━━━━━━━━━━\u001b[0m\u001b[37m\u001b[0m \u001b[1m97s\u001b[0m 184ms/step - accuracy: 0.9773 - loss: 0.0603 - val_accuracy: 0.9038 - val_loss: 0.3456\n",
      "Epoch 10/10\n",
      "\u001b[1m522/522\u001b[0m \u001b[32m━━━━━━━━━━━━━━━━━━━━\u001b[0m\u001b[37m\u001b[0m \u001b[1m96s\u001b[0m 181ms/step - accuracy: 0.9753 - loss: 0.0608 - val_accuracy: 0.9103 - val_loss: 0.2973\n"
     ]
    }
   ],
   "source": [
    "\n",
    "# Compile the model\n",
    "model.compile(loss='categorical_crossentropy', optimizer='adam', metrics=['accuracy'])\n",
    "\n",
    "# Data Augmentation\n",
    "train_datagen = ImageDataGenerator(rescale=1./255, shear_range=0.2, zoom_range=0.2, horizontal_flip=True)\n",
    "test_datagen = ImageDataGenerator(rescale=1./255)\n",
    "\n",
    "# Load training and test data\n",
    "training_set = train_datagen.flow_from_directory(train_path, target_size=(224, 224), batch_size=10, class_mode='categorical')\n",
    "test_set = test_datagen.flow_from_directory(test_path, target_size=(224, 224), batch_size=10, class_mode='categorical')\n",
    "\n",
    "# Train the model\n",
    "history = model.fit(training_set, validation_data=test_set, epochs=10)\n",
    "\n",
    "# Save the model\n",
    "model.save('chest_xray.h5')"
   ]
  },
  {
   "cell_type": "code",
   "execution_count": 11,
   "metadata": {
    "execution": {
     "iopub.execute_input": "2025-02-06T15:40:45.305954Z",
     "iopub.status.busy": "2025-02-06T15:40:45.305629Z",
     "iopub.status.idle": "2025-02-06T15:40:45.439197Z",
     "shell.execute_reply": "2025-02-06T15:40:45.438374Z",
     "shell.execute_reply.started": "2025-02-06T15:40:45.305931Z"
    },
    "trusted": true
   },
   "outputs": [
    {
     "data": {
      "application/vnd.jupyter.widget-view+json": {
       "model_id": "d51e1af5a629429180a96702534f195b",
       "version_major": 2,
       "version_minor": 0
      },
      "text/plain": [
       "FileUpload(value=(), accept='image/*', description='Upload')"
      ]
     },
     "metadata": {},
     "output_type": "display_data"
    }
   ],
   "source": [
    "from keras.applications.vgg16 import preprocess_input"
   ]
  },
  {
   "cell_type": "code",
   "execution_count": 33,
   "metadata": {
    "execution": {
     "iopub.execute_input": "2025-02-06T15:57:48.144428Z",
     "iopub.status.busy": "2025-02-06T15:57:48.144140Z",
     "iopub.status.idle": "2025-02-06T15:57:48.149113Z",
     "shell.execute_reply": "2025-02-06T15:57:48.148147Z",
     "shell.execute_reply.started": "2025-02-06T15:57:48.144405Z"
    },
    "trusted": true
   },
   "outputs": [],
   "source": [
    "def predict(path):\n",
    "    img=image.load_img(path,target_size=(224,224))\n",
    "    x=image.img_to_array(img)\n",
    "    x=np.expand_dims(x, axis=0)\n",
    "    img_data=preprocess_input(x)\n",
    "    classes=model.predict(img_data)\n",
    "    result=int(classes[0][0])\n",
    "    if result==0:\n",
    "        print(\"Person is Affected By PNEUMONIA\")\n",
    "    else:\n",
    "        print(\"Result is Normal\")\n",
    "    "
   ]
  },
  {
   "cell_type": "code",
   "execution_count": 34,
   "metadata": {
    "execution": {
     "iopub.execute_input": "2025-02-06T15:58:14.307255Z",
     "iopub.status.busy": "2025-02-06T15:58:14.306909Z",
     "iopub.status.idle": "2025-02-06T15:58:14.398435Z",
     "shell.execute_reply": "2025-02-06T15:58:14.397628Z",
     "shell.execute_reply.started": "2025-02-06T15:58:14.307224Z"
    },
    "trusted": true
   },
   "outputs": [
    {
     "name": "stdout",
     "output_type": "stream",
     "text": [
      "\u001b[1m1/1\u001b[0m \u001b[32m━━━━━━━━━━━━━━━━━━━━\u001b[0m\u001b[37m\u001b[0m \u001b[1m0s\u001b[0m 18ms/step\n",
      "Result is Normal\n"
     ]
    }
   ],
   "source": [
    "predict(\"/kaggle/input/chest-xray-pneumonia/chest_xray/val/NORMAL/NORMAL2-IM-1427-0001.jpeg\")"
   ]
  },
  {
   "cell_type": "code",
   "execution_count": 35,
   "metadata": {
    "execution": {
     "iopub.execute_input": "2025-02-06T15:58:47.285482Z",
     "iopub.status.busy": "2025-02-06T15:58:47.285180Z",
     "iopub.status.idle": "2025-02-06T15:58:47.370115Z",
     "shell.execute_reply": "2025-02-06T15:58:47.369230Z",
     "shell.execute_reply.started": "2025-02-06T15:58:47.285448Z"
    },
    "trusted": true
   },
   "outputs": [
    {
     "name": "stdout",
     "output_type": "stream",
     "text": [
      "\u001b[1m1/1\u001b[0m \u001b[32m━━━━━━━━━━━━━━━━━━━━\u001b[0m\u001b[37m\u001b[0m \u001b[1m0s\u001b[0m 17ms/step\n",
      "Person is Affected By PNEUMONIA\n"
     ]
    }
   ],
   "source": [
    "predict(\"/kaggle/input/chest-xray-pneumonia/chest_xray/val/PNEUMONIA/person1946_bacteria_4874.jpeg\")"
   ]
  },
  {
   "cell_type": "code",
   "execution_count": null,
   "metadata": {
    "trusted": true
   },
   "outputs": [],
   "source": []
  }
 ],
 "metadata": {
  "kaggle": {
   "accelerator": "nvidiaTeslaT4",
   "dataSources": [
    {
     "datasetId": 17810,
     "sourceId": 23812,
     "sourceType": "datasetVersion"
    }
   ],
   "dockerImageVersionId": 30839,
   "isGpuEnabled": true,
   "isInternetEnabled": true,
   "language": "python",
   "sourceType": "notebook"
  },
  "kernelspec": {
   "display_name": "Python 3",
   "language": "python",
   "name": "python3"
  },
  "language_info": {
   "codemirror_mode": {
    "name": "ipython",
    "version": 3
   },
   "file_extension": ".py",
   "mimetype": "text/x-python",
   "name": "python",
   "nbconvert_exporter": "python",
   "pygments_lexer": "ipython3",
   "version": "3.10.12"
  }
 },
 "nbformat": 4,
 "nbformat_minor": 4
}
